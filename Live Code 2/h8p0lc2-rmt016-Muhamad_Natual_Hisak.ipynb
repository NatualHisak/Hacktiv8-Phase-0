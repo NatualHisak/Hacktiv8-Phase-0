{
 "cells": [
  {
   "cell_type": "markdown",
   "metadata": {},
   "source": [
    "<h1>INTRODUCTIONS</h1>\n",
    "<h2>Live Code 2 </h2>\n",
    "<h3><b>Muhamad Natual Hisak</b></h3>"
   ]
  },
  {
   "cell_type": "markdown",
   "metadata": {},
   "source": [
    "<h2>PROBLEM 1</h2>\n",
    "Kamu sedang mencari rumah dan akan memilih satu dari dua pilihan rumah dengan harga yang cukup berbeda. Sekilas, kedua rumah sama karakteristiknya, namun kamu ingin memastikan kembali apakah rumah yang lebih mahal patut dibeli atau tidak.<br>\n",
    "\n",
    "\n",
    "Keterangan:\n",
    "\n",
    "-Pada kolom Jumlah Kamar Tidur, Jumlah Kamar Mandi, Ada Halaman Belakang?, Ada Parkir Mobil dan Motor?, serta Dekat Dengan Pusat Kota? bernilai biner yaitu 1: Ya dan 0: Tidak.<br>\n",
    "\n",
    "-Kolom harga dalam satuan ratus juta.<br>\n",
    "\n",
    "-Buatlah vektor yang merupakan representasi masing-masing rumah berdasarkan tabel di atas dengan mengecualikan kolom harga dan hitung cosine similarity antar kedua vektor. Kemudian jawab pertanyaan berikut di markdown:<br>\n",
    "\n",
    "a. Apakah kedua rumah mirip? jika iya, mengapa dan jika tidak, mengapa (jawab berdasarkan hasil perhitungan cosine similaritynya)? Dan keputusan yang akhirnya kamu pilih, rumah 1 atau rumah 2? apa pertimbangannya?\n",
    "\n",
    "b. Jika meninjau dua buah vektor dan dihitung cosine similaritynya (cos theta), jelaskan secara singkat, jelas, padat apa makna cosine similarity yang bernilai 0 dan 1 (tinjau dari posisi dua vektor di koordinat kartesian)?\n",
    "\n",
    "c. Mengapa cosine similarity harus melibatkan vektor bukan matriks?\n"
   ]
  },
  {
   "cell_type": "markdown",
   "metadata": {},
   "source": [
    "<h2>JAWABAN PROBLEM 1</h2>"
   ]
  },
  {
   "cell_type": "markdown",
   "metadata": {},
   "source": [
    "import library yang akan digunakan yaitu numpy, matplotlib, dan pandas"
   ]
  },
  {
   "cell_type": "code",
   "execution_count": 1,
   "metadata": {},
   "outputs": [],
   "source": [
    "import numpy as np\n",
    "import pandas as pd\n",
    "import matplotlib.pyplot as plt"
   ]
  },
  {
   "cell_type": "markdown",
   "metadata": {},
   "source": [
    "Jadikan data kedua rumah kedalam vektor"
   ]
  },
  {
   "cell_type": "code",
   "execution_count": 2,
   "metadata": {},
   "outputs": [
    {
     "data": {
      "text/plain": [
       "(array([100, 240,   3,   3,   2,   0,   1,   1]),\n",
       " array([120, 200,   2,   2,   2,   1,   1,   1]))"
      ]
     },
     "execution_count": 2,
     "metadata": {},
     "output_type": "execute_result"
    }
   ],
   "source": [
    "Rumah1 = np.array([100,240,3,3,2,0,1,1])\n",
    "Rumah2 = np.array([120,200,2,2,2,1,1,1])\n",
    "Rumah1, Rumah2"
   ]
  },
  {
   "cell_type": "markdown",
   "metadata": {},
   "source": [
    "Hitung nilai dot product dari kedua vektor"
   ]
  },
  {
   "cell_type": "code",
   "execution_count": 3,
   "metadata": {},
   "outputs": [
    {
     "name": "stdout",
     "output_type": "stream",
     "text": [
      "Nilai dot product antara kedua vektor :  60018\n"
     ]
    }
   ],
   "source": [
    "dot = np.dot(Rumah1,Rumah2, out = None)\n",
    "print(\"Nilai dot product antara kedua vektor : \", dot)"
   ]
  },
  {
   "cell_type": "markdown",
   "metadata": {},
   "source": [
    "Hitung nilai Cosine Similarity"
   ]
  },
  {
   "cell_type": "code",
   "execution_count": 4,
   "metadata": {},
   "outputs": [
    {
     "name": "stdout",
     "output_type": "stream",
     "text": [
      "Cosine similarity antara kedua vektor :  0.9893997002438046\n"
     ]
    }
   ],
   "source": [
    "Cosim = dot/(np.linalg.norm(Rumah1)*(np.linalg.norm(Rumah2)))\n",
    "print(\"Cosine similarity antara kedua vektor : \",Cosim)"
   ]
  },
  {
   "cell_type": "markdown",
   "metadata": {},
   "source": [
    "Jawaban dari pertanyaan :\n",
    "\n",
    "a. Kedua rumah mirip karena, berdasarkan nilai cosine similarity antara kedua rumah yang bernilai 98.9%, itu artinya kedua rumah sangat mirip karena nilai cosine similarity menunjukkan kemiripan antar 2 buah vektor.<br>\n",
    "Rumah yang saya pilih adalah rumah 2 karena dengan harga yang lebih murah, saya bisa mendapatkan rumah dengan luas tanah yang lebih besar, dan rumah yang memiliki halaman belakang walaupun luas bangunan, jumlah lantai dan kamar tidur yang tidak sebanyakan rumah 1.\n",
    "\n",
    "b. Jika meninjau dua buah vektor dan dihitung cosine similaritynya, nilai cosine similarity 0 mengartikan bahwa sudut yang terbentuk dari kedua vektor hampir mencapai 90 derajat, yang berarti tidak terjadi kemiripan antar 2 buah vektor tersebut. Sedangkan nilai cosine similarity 1 mengartikan bahwa sudut yang terbentuk dari kedua vektor hampir mencapai 0 derajat, yang berarti kedua vektor tersebut sangat mirip.\n",
    "\n",
    "c. Cosine similarity harus melibatkan vektor bukan matrix karena inti dari perhitungan cosine similarity ini adalah menghitung sudut yang terbentuk dari dua buah vektor. Jika digambar pada diagram kartesian, sudut tersebut akan terbentuk dari dua buah garis yang ditarik berdasarkan nilai vektor tersebut."
   ]
  },
  {
   "cell_type": "markdown",
   "metadata": {},
   "source": [
    "<h2>PROBLEM 2</h2>\n",
    "Kamu diberikan tugas untuk menganalisis harga sewa apartemen di Argentina per Januari 2015. Gunakan kemampuan statistikamu untuk menganalisis data yang tersedia!<br>\n",
    "\n",
    "Pada graded challenge ini, data diakses menggunakan bigquery-public-data pada Google Cloud Big Query.\n",
    "Buka Google Cloud Platform, masuk ke BigQuery, lalu buka tab bigquery-public-data atau klik link berikut atau link berikut untuk langsung menuju ke tabel.<br>\n",
    "\n",
    "1. Gunakan tabel properties_rent_201501 pada dataset properati_properties_ar.\n",
    "2. Buatlah query dengan kriteria sebagai berikut:\n",
    "3. Pilih HANYA kolom price\n",
    "4. Pilih data dengan value operation 'rent' dan property_type 'Apartement`\n",
    "5. Simpan dataset dalam bentuk csv, dengan nama h8dsft_P0LC3_<nama-students>.csv.\n",
    "6. Salin query yang telah dibuat di Google Cloud Platform, tulislah pada bagian atas notebook!\n",
    "7. Tampilkan head dan tail dari dataset pada notebook!\n",
    "\n",
    "<b>Clue</b>: Untuk mengetahui adanya anomali, kamu bisa menggunakan metode extreme value analysis. Untuk melakukan pengecekan anomali/outlier, lakukan langkah-langkah di bawah ini:<br>\n",
    "\n",
    "1. Lakukan perhitungan central tendency (mean, median, modus) terhadap data sebelum dideteksi adanya anomali.\n",
    "2. Cek skewness data untuk mengetahui apakah data terdistribusi normal atau tidak.\n",
    "3. Lakukan pengolahan data dengan menggunakan extreme value analysis.\n",
    "4. Buat variabel baru yang menyimpan data yang sudah dibuang data anomalinya.\n",
    "\n",
    "\n",
    "<h3>PERTANYAAN</h3>\n",
    "\n",
    "Silahkan jawab pertanyaan-pertanyaan di bawah ini berdasarkan hasil yang kamu peroleh dan tulis pada bagian hasil:\n",
    "\n",
    "1. Berapa rata-rata, median, dan modus dari data tersebut sebelum dihilangkan outliernya? Bagaimana kecerendungan pemusatan datanya? jelaskan jawabanmu!\n",
    "2. Sebelum melakukan extreme value analysis, kamu harus melakukan pengecekan skewness dari distribusi datanya. Apakah datanya skew atau normal? jelaskan jawabanmu!\n",
    "3. Ada dua teknik untuk melakukan extreme value analysis, teknik yang mana yang kamu pakai? berikan alasanmu berdasarkan data!"
   ]
  },
  {
   "cell_type": "markdown",
   "metadata": {},
   "source": [
    "<h2>JAWABAN PROBLEM 2</h2>"
   ]
  },
  {
   "cell_type": "markdown",
   "metadata": {},
   "source": [
    "Lakukan query pada BigQuery dengan kode dibawah : <br>\n",
    "\n",
    "<b>SELECT price FROM bigquery-public-data.properati_properties_ar.properties_rent_201501 where property_type = \"apartment\" and operation = \"rent\"</b><br>\n",
    "\n",
    "Setelah itu save dataset agar bisa di load ke program yang akan dibuat"
   ]
  },
  {
   "cell_type": "markdown",
   "metadata": {},
   "source": [
    "Load dataset yang sudah di download dari bigquery, lalu tampilkan"
   ]
  },
  {
   "cell_type": "code",
   "execution_count": 5,
   "metadata": {},
   "outputs": [
    {
     "data": {
      "text/html": [
       "<div>\n",
       "<style scoped>\n",
       "    .dataframe tbody tr th:only-of-type {\n",
       "        vertical-align: middle;\n",
       "    }\n",
       "\n",
       "    .dataframe tbody tr th {\n",
       "        vertical-align: top;\n",
       "    }\n",
       "\n",
       "    .dataframe thead th {\n",
       "        text-align: right;\n",
       "    }\n",
       "</style>\n",
       "<table border=\"1\" class=\"dataframe\">\n",
       "  <thead>\n",
       "    <tr style=\"text-align: right;\">\n",
       "      <th></th>\n",
       "      <th>price</th>\n",
       "    </tr>\n",
       "  </thead>\n",
       "  <tbody>\n",
       "    <tr>\n",
       "      <th>0</th>\n",
       "      <td>2500</td>\n",
       "    </tr>\n",
       "    <tr>\n",
       "      <th>1</th>\n",
       "      <td>3500</td>\n",
       "    </tr>\n",
       "    <tr>\n",
       "      <th>2</th>\n",
       "      <td>2850</td>\n",
       "    </tr>\n",
       "    <tr>\n",
       "      <th>3</th>\n",
       "      <td>1850</td>\n",
       "    </tr>\n",
       "    <tr>\n",
       "      <th>4</th>\n",
       "      <td>1000</td>\n",
       "    </tr>\n",
       "    <tr>\n",
       "      <th>...</th>\n",
       "      <td>...</td>\n",
       "    </tr>\n",
       "    <tr>\n",
       "      <th>1653</th>\n",
       "      <td>500</td>\n",
       "    </tr>\n",
       "    <tr>\n",
       "      <th>1654</th>\n",
       "      <td>500</td>\n",
       "    </tr>\n",
       "    <tr>\n",
       "      <th>1655</th>\n",
       "      <td>500</td>\n",
       "    </tr>\n",
       "    <tr>\n",
       "      <th>1656</th>\n",
       "      <td>500</td>\n",
       "    </tr>\n",
       "    <tr>\n",
       "      <th>1657</th>\n",
       "      <td>500</td>\n",
       "    </tr>\n",
       "  </tbody>\n",
       "</table>\n",
       "<p>1658 rows × 1 columns</p>\n",
       "</div>"
      ],
      "text/plain": [
       "      price\n",
       "0      2500\n",
       "1      3500\n",
       "2      2850\n",
       "3      1850\n",
       "4      1000\n",
       "...     ...\n",
       "1653    500\n",
       "1654    500\n",
       "1655    500\n",
       "1656    500\n",
       "1657    500\n",
       "\n",
       "[1658 rows x 1 columns]"
      ]
     },
     "execution_count": 5,
     "metadata": {},
     "output_type": "execute_result"
    }
   ],
   "source": [
    "df = pd.read_csv(r\"C:\\Users\\Omen\\Desktop\\Hacktiv8\\Live Code 2\\h8dsft_P0LC3_Muhamad_Natual_Hisak.csv.csv\")\n",
    "df"
   ]
  },
  {
   "cell_type": "code",
   "execution_count": 6,
   "metadata": {},
   "outputs": [
    {
     "data": {
      "text/html": [
       "<div>\n",
       "<style scoped>\n",
       "    .dataframe tbody tr th:only-of-type {\n",
       "        vertical-align: middle;\n",
       "    }\n",
       "\n",
       "    .dataframe tbody tr th {\n",
       "        vertical-align: top;\n",
       "    }\n",
       "\n",
       "    .dataframe thead th {\n",
       "        text-align: right;\n",
       "    }\n",
       "</style>\n",
       "<table border=\"1\" class=\"dataframe\">\n",
       "  <thead>\n",
       "    <tr style=\"text-align: right;\">\n",
       "      <th></th>\n",
       "      <th>price</th>\n",
       "    </tr>\n",
       "  </thead>\n",
       "  <tbody>\n",
       "    <tr>\n",
       "      <th>0</th>\n",
       "      <td>2500</td>\n",
       "    </tr>\n",
       "    <tr>\n",
       "      <th>1</th>\n",
       "      <td>3500</td>\n",
       "    </tr>\n",
       "    <tr>\n",
       "      <th>2</th>\n",
       "      <td>2850</td>\n",
       "    </tr>\n",
       "    <tr>\n",
       "      <th>3</th>\n",
       "      <td>1850</td>\n",
       "    </tr>\n",
       "    <tr>\n",
       "      <th>4</th>\n",
       "      <td>1000</td>\n",
       "    </tr>\n",
       "  </tbody>\n",
       "</table>\n",
       "</div>"
      ],
      "text/plain": [
       "   price\n",
       "0   2500\n",
       "1   3500\n",
       "2   2850\n",
       "3   1850\n",
       "4   1000"
      ]
     },
     "execution_count": 6,
     "metadata": {},
     "output_type": "execute_result"
    }
   ],
   "source": [
    "df.head() #menampilkan 5 data teratas"
   ]
  },
  {
   "cell_type": "code",
   "execution_count": 7,
   "metadata": {},
   "outputs": [
    {
     "data": {
      "text/html": [
       "<div>\n",
       "<style scoped>\n",
       "    .dataframe tbody tr th:only-of-type {\n",
       "        vertical-align: middle;\n",
       "    }\n",
       "\n",
       "    .dataframe tbody tr th {\n",
       "        vertical-align: top;\n",
       "    }\n",
       "\n",
       "    .dataframe thead th {\n",
       "        text-align: right;\n",
       "    }\n",
       "</style>\n",
       "<table border=\"1\" class=\"dataframe\">\n",
       "  <thead>\n",
       "    <tr style=\"text-align: right;\">\n",
       "      <th></th>\n",
       "      <th>price</th>\n",
       "    </tr>\n",
       "  </thead>\n",
       "  <tbody>\n",
       "    <tr>\n",
       "      <th>1653</th>\n",
       "      <td>500</td>\n",
       "    </tr>\n",
       "    <tr>\n",
       "      <th>1654</th>\n",
       "      <td>500</td>\n",
       "    </tr>\n",
       "    <tr>\n",
       "      <th>1655</th>\n",
       "      <td>500</td>\n",
       "    </tr>\n",
       "    <tr>\n",
       "      <th>1656</th>\n",
       "      <td>500</td>\n",
       "    </tr>\n",
       "    <tr>\n",
       "      <th>1657</th>\n",
       "      <td>500</td>\n",
       "    </tr>\n",
       "  </tbody>\n",
       "</table>\n",
       "</div>"
      ],
      "text/plain": [
       "      price\n",
       "1653    500\n",
       "1654    500\n",
       "1655    500\n",
       "1656    500\n",
       "1657    500"
      ]
     },
     "execution_count": 7,
     "metadata": {},
     "output_type": "execute_result"
    }
   ],
   "source": [
    "df.tail()#menampilkan 5 data terbawah"
   ]
  },
  {
   "cell_type": "markdown",
   "metadata": {},
   "source": [
    "Copy data ke variabel baru agar data asli tidak ter-overwrite saat dilakukan proses cleaning"
   ]
  },
  {
   "cell_type": "code",
   "execution_count": 8,
   "metadata": {},
   "outputs": [
    {
     "data": {
      "text/html": [
       "<div>\n",
       "<style scoped>\n",
       "    .dataframe tbody tr th:only-of-type {\n",
       "        vertical-align: middle;\n",
       "    }\n",
       "\n",
       "    .dataframe tbody tr th {\n",
       "        vertical-align: top;\n",
       "    }\n",
       "\n",
       "    .dataframe thead th {\n",
       "        text-align: right;\n",
       "    }\n",
       "</style>\n",
       "<table border=\"1\" class=\"dataframe\">\n",
       "  <thead>\n",
       "    <tr style=\"text-align: right;\">\n",
       "      <th></th>\n",
       "      <th>price</th>\n",
       "    </tr>\n",
       "  </thead>\n",
       "  <tbody>\n",
       "    <tr>\n",
       "      <th>0</th>\n",
       "      <td>2500</td>\n",
       "    </tr>\n",
       "    <tr>\n",
       "      <th>1</th>\n",
       "      <td>3500</td>\n",
       "    </tr>\n",
       "    <tr>\n",
       "      <th>2</th>\n",
       "      <td>2850</td>\n",
       "    </tr>\n",
       "    <tr>\n",
       "      <th>3</th>\n",
       "      <td>1850</td>\n",
       "    </tr>\n",
       "    <tr>\n",
       "      <th>4</th>\n",
       "      <td>1000</td>\n",
       "    </tr>\n",
       "  </tbody>\n",
       "</table>\n",
       "</div>"
      ],
      "text/plain": [
       "   price\n",
       "0   2500\n",
       "1   3500\n",
       "2   2850\n",
       "3   1850\n",
       "4   1000"
      ]
     },
     "execution_count": 8,
     "metadata": {},
     "output_type": "execute_result"
    }
   ],
   "source": [
    "price = df.copy()\n",
    "price.head()"
   ]
  },
  {
   "cell_type": "markdown",
   "metadata": {},
   "source": [
    "Cek missing value"
   ]
  },
  {
   "cell_type": "code",
   "execution_count": 9,
   "metadata": {},
   "outputs": [
    {
     "name": "stdout",
     "output_type": "stream",
     "text": [
      "<class 'pandas.core.frame.DataFrame'>\n",
      "RangeIndex: 1658 entries, 0 to 1657\n",
      "Data columns (total 1 columns):\n",
      " #   Column  Non-Null Count  Dtype\n",
      "---  ------  --------------  -----\n",
      " 0   price   1658 non-null   int64\n",
      "dtypes: int64(1)\n",
      "memory usage: 13.1 KB\n"
     ]
    },
    {
     "name": "stderr",
     "output_type": "stream",
     "text": [
      "C:\\Users\\Omen\\AppData\\Roaming\\Python\\Python37\\site-packages\\ipykernel_launcher.py:1: FutureWarning: null_counts is deprecated. Use show_counts instead\n",
      "  \"\"\"Entry point for launching an IPython kernel.\n"
     ]
    }
   ],
   "source": [
    "price.info(null_counts=True)"
   ]
  },
  {
   "cell_type": "markdown",
   "metadata": {},
   "source": [
    "Dari data diatas bisa dilihat bahwa tidak ada missing value dari tabel"
   ]
  },
  {
   "cell_type": "markdown",
   "metadata": {},
   "source": [
    "Menghitung Central Tendency (Mean, Median, Modus) pada data sebelum dilakukan cleaning"
   ]
  },
  {
   "cell_type": "code",
   "execution_count": 10,
   "metadata": {},
   "outputs": [
    {
     "name": "stdout",
     "output_type": "stream",
     "text": [
      "mean :  5166.355247285886\n",
      "median :  2700.0\n",
      "modus :  0    0\n",
      "dtype: int64\n"
     ]
    }
   ],
   "source": [
    "Mean = price['price'].mean()\n",
    "Median = price['price'].median()\n",
    "Mode = price['price'].mode()\n",
    "\n",
    "print(\"mean : \", Mean)\n",
    "print(\"median : \", Median)\n",
    "print(\"modus : \", Mode)"
   ]
  },
  {
   "cell_type": "markdown",
   "metadata": {},
   "source": [
    "Mencari jumlah kemunculan data 0 sebagai modus pada kolom price "
   ]
  },
  {
   "cell_type": "code",
   "execution_count": 11,
   "metadata": {},
   "outputs": [
    {
     "data": {
      "text/html": [
       "<div>\n",
       "<style scoped>\n",
       "    .dataframe tbody tr th:only-of-type {\n",
       "        vertical-align: middle;\n",
       "    }\n",
       "\n",
       "    .dataframe tbody tr th {\n",
       "        vertical-align: top;\n",
       "    }\n",
       "\n",
       "    .dataframe thead th {\n",
       "        text-align: right;\n",
       "    }\n",
       "</style>\n",
       "<table border=\"1\" class=\"dataframe\">\n",
       "  <thead>\n",
       "    <tr style=\"text-align: right;\">\n",
       "      <th></th>\n",
       "      <th>price</th>\n",
       "    </tr>\n",
       "  </thead>\n",
       "  <tbody>\n",
       "    <tr>\n",
       "      <th>1193</th>\n",
       "      <td>0</td>\n",
       "    </tr>\n",
       "    <tr>\n",
       "      <th>1194</th>\n",
       "      <td>0</td>\n",
       "    </tr>\n",
       "    <tr>\n",
       "      <th>1195</th>\n",
       "      <td>0</td>\n",
       "    </tr>\n",
       "    <tr>\n",
       "      <th>1196</th>\n",
       "      <td>0</td>\n",
       "    </tr>\n",
       "    <tr>\n",
       "      <th>1197</th>\n",
       "      <td>0</td>\n",
       "    </tr>\n",
       "    <tr>\n",
       "      <th>...</th>\n",
       "      <td>...</td>\n",
       "    </tr>\n",
       "    <tr>\n",
       "      <th>1641</th>\n",
       "      <td>0</td>\n",
       "    </tr>\n",
       "    <tr>\n",
       "      <th>1642</th>\n",
       "      <td>0</td>\n",
       "    </tr>\n",
       "    <tr>\n",
       "      <th>1643</th>\n",
       "      <td>0</td>\n",
       "    </tr>\n",
       "    <tr>\n",
       "      <th>1644</th>\n",
       "      <td>0</td>\n",
       "    </tr>\n",
       "    <tr>\n",
       "      <th>1645</th>\n",
       "      <td>0</td>\n",
       "    </tr>\n",
       "  </tbody>\n",
       "</table>\n",
       "<p>453 rows × 1 columns</p>\n",
       "</div>"
      ],
      "text/plain": [
       "      price\n",
       "1193      0\n",
       "1194      0\n",
       "1195      0\n",
       "1196      0\n",
       "1197      0\n",
       "...     ...\n",
       "1641      0\n",
       "1642      0\n",
       "1643      0\n",
       "1644      0\n",
       "1645      0\n",
       "\n",
       "[453 rows x 1 columns]"
      ]
     },
     "execution_count": 11,
     "metadata": {},
     "output_type": "execute_result"
    }
   ],
   "source": [
    "price.loc[price.price == 0]"
   ]
  },
  {
   "cell_type": "code",
   "execution_count": 12,
   "metadata": {},
   "outputs": [
    {
     "data": {
      "text/plain": [
       "27.322074788902288"
      ]
     },
     "execution_count": 12,
     "metadata": {},
     "output_type": "execute_result"
    }
   ],
   "source": [
    "(453/1658)*100"
   ]
  },
  {
   "cell_type": "markdown",
   "metadata": {},
   "source": [
    "Bisa dilihat bahwa nilai 0 muncul sebanyak 453 kali dalam data ini atau sebanyak 27.3% input pada data ini adalah bernilai 0"
   ]
  },
  {
   "cell_type": "markdown",
   "metadata": {},
   "source": [
    "Cek distribusi dengan mencari nilai skewness data"
   ]
  },
  {
   "cell_type": "code",
   "execution_count": 13,
   "metadata": {},
   "outputs": [
    {
     "name": "stdout",
     "output_type": "stream",
     "text": [
      "skewness :  4.2401362864090695\n"
     ]
    }
   ],
   "source": [
    "skew = price[\"price\"].skew()\n",
    "print(\"skewness : \",skew)"
   ]
  },
  {
   "cell_type": "markdown",
   "metadata": {},
   "source": [
    "Dari data skewness diatas, bisa disimpulkan bahwa data tersebut memiliki distribusi sangat tidak normal atau bisa disebut highly skewed. Hal ini bisa dilihat dari nilai skewness yang berada diatas 1."
   ]
  },
  {
   "cell_type": "markdown",
   "metadata": {},
   "source": [
    "Dikarenakan data tersebut termasuk highly skewed (skew > 1 OR skew < -1), maka untuk extreme value analysis akan digunakan metode IQR dengan upper limit bernilai Q3+3 * IQR dan lower limit Q1-3 * IQR<br>\n",
    "\n",
    "Untuk melakukan hal tersebut, kita butuh nilai Q1 Q3 dan IQR. Selanjutnya mencari ketiga nilai tersebut."
   ]
  },
  {
   "cell_type": "code",
   "execution_count": 14,
   "metadata": {},
   "outputs": [
    {
     "name": "stdout",
     "output_type": "stream",
     "text": [
      "Q1 : 0.0\n",
      "Q3 : 5500.0\n",
      "IQR : 5500.0\n"
     ]
    }
   ],
   "source": [
    "Q1 = price[\"price\"].quantile(.25)\n",
    "Q3 = price[\"price\"].quantile(.75)\n",
    "IQR = Q3-Q1\n",
    "print(\"Q1 :\",Q1)\n",
    "print(\"Q3 :\",Q3)\n",
    "print(\"IQR :\",IQR)"
   ]
  },
  {
   "cell_type": "markdown",
   "metadata": {},
   "source": [
    "Selanjutnya menentukan limit bawah dan atas"
   ]
  },
  {
   "cell_type": "code",
   "execution_count": 15,
   "metadata": {},
   "outputs": [
    {
     "name": "stdout",
     "output_type": "stream",
     "text": [
      "lower limit -16500.0\n",
      "upper limit 22000.0\n"
     ]
    }
   ],
   "source": [
    "low = Q1-3*IQR\n",
    "high = Q3+3*IQR\n",
    "print(\"lower limit\",low)\n",
    "print(\"upper limit\",high)"
   ]
  },
  {
   "cell_type": "markdown",
   "metadata": {},
   "source": [
    "Selanjutnya mencari data data yang termasuk dalam outlier (price > upper limit OR price < lower limit)"
   ]
  },
  {
   "cell_type": "code",
   "execution_count": 16,
   "metadata": {},
   "outputs": [
    {
     "data": {
      "text/html": [
       "<div>\n",
       "<style scoped>\n",
       "    .dataframe tbody tr th:only-of-type {\n",
       "        vertical-align: middle;\n",
       "    }\n",
       "\n",
       "    .dataframe tbody tr th {\n",
       "        vertical-align: top;\n",
       "    }\n",
       "\n",
       "    .dataframe thead th {\n",
       "        text-align: right;\n",
       "    }\n",
       "</style>\n",
       "<table border=\"1\" class=\"dataframe\">\n",
       "  <thead>\n",
       "    <tr style=\"text-align: right;\">\n",
       "      <th></th>\n",
       "      <th>price</th>\n",
       "    </tr>\n",
       "  </thead>\n",
       "  <tbody>\n",
       "    <tr>\n",
       "      <th>27</th>\n",
       "      <td>30000</td>\n",
       "    </tr>\n",
       "    <tr>\n",
       "      <th>33</th>\n",
       "      <td>45000</td>\n",
       "    </tr>\n",
       "    <tr>\n",
       "      <th>130</th>\n",
       "      <td>23000</td>\n",
       "    </tr>\n",
       "    <tr>\n",
       "      <th>135</th>\n",
       "      <td>80000</td>\n",
       "    </tr>\n",
       "    <tr>\n",
       "      <th>137</th>\n",
       "      <td>46000</td>\n",
       "    </tr>\n",
       "    <tr>\n",
       "      <th>...</th>\n",
       "      <td>...</td>\n",
       "    </tr>\n",
       "    <tr>\n",
       "      <th>806</th>\n",
       "      <td>28000</td>\n",
       "    </tr>\n",
       "    <tr>\n",
       "      <th>847</th>\n",
       "      <td>24000</td>\n",
       "    </tr>\n",
       "    <tr>\n",
       "      <th>898</th>\n",
       "      <td>76000</td>\n",
       "    </tr>\n",
       "    <tr>\n",
       "      <th>928</th>\n",
       "      <td>25000</td>\n",
       "    </tr>\n",
       "    <tr>\n",
       "      <th>952</th>\n",
       "      <td>24000</td>\n",
       "    </tr>\n",
       "  </tbody>\n",
       "</table>\n",
       "<p>82 rows × 1 columns</p>\n",
       "</div>"
      ],
      "text/plain": [
       "     price\n",
       "27   30000\n",
       "33   45000\n",
       "130  23000\n",
       "135  80000\n",
       "137  46000\n",
       "..     ...\n",
       "806  28000\n",
       "847  24000\n",
       "898  76000\n",
       "928  25000\n",
       "952  24000\n",
       "\n",
       "[82 rows x 1 columns]"
      ]
     },
     "execution_count": 16,
     "metadata": {},
     "output_type": "execute_result"
    }
   ],
   "source": [
    "out = price.loc[(price.price >= high) | (price.price <= low)]\n",
    "out"
   ]
  },
  {
   "cell_type": "code",
   "execution_count": 17,
   "metadata": {},
   "outputs": [
    {
     "data": {
      "text/plain": [
       "4.945717732207479"
      ]
     },
     "execution_count": 17,
     "metadata": {},
     "output_type": "execute_result"
    }
   ],
   "source": [
    "(82/1658)*100"
   ]
  },
  {
   "cell_type": "markdown",
   "metadata": {},
   "source": [
    "Ada 82 buah data yang termasuk outlier dari total 1658 data, yang berarti persentase outlier pada data ini ada di angka 4.946%<br>\n",
    "\n",
    "Selanjutnya hapus data yang termasuk dalam outlier, lalu tabel baru yang sudah bersih dari outlier dimasukkan ke variabel baru"
   ]
  },
  {
   "cell_type": "code",
   "execution_count": 18,
   "metadata": {},
   "outputs": [
    {
     "data": {
      "text/html": [
       "<div>\n",
       "<style scoped>\n",
       "    .dataframe tbody tr th:only-of-type {\n",
       "        vertical-align: middle;\n",
       "    }\n",
       "\n",
       "    .dataframe tbody tr th {\n",
       "        vertical-align: top;\n",
       "    }\n",
       "\n",
       "    .dataframe thead th {\n",
       "        text-align: right;\n",
       "    }\n",
       "</style>\n",
       "<table border=\"1\" class=\"dataframe\">\n",
       "  <thead>\n",
       "    <tr style=\"text-align: right;\">\n",
       "      <th></th>\n",
       "      <th>price</th>\n",
       "    </tr>\n",
       "  </thead>\n",
       "  <tbody>\n",
       "    <tr>\n",
       "      <th>0</th>\n",
       "      <td>2500</td>\n",
       "    </tr>\n",
       "    <tr>\n",
       "      <th>1</th>\n",
       "      <td>3500</td>\n",
       "    </tr>\n",
       "    <tr>\n",
       "      <th>2</th>\n",
       "      <td>2850</td>\n",
       "    </tr>\n",
       "    <tr>\n",
       "      <th>3</th>\n",
       "      <td>1850</td>\n",
       "    </tr>\n",
       "    <tr>\n",
       "      <th>4</th>\n",
       "      <td>1000</td>\n",
       "    </tr>\n",
       "    <tr>\n",
       "      <th>...</th>\n",
       "      <td>...</td>\n",
       "    </tr>\n",
       "    <tr>\n",
       "      <th>1653</th>\n",
       "      <td>500</td>\n",
       "    </tr>\n",
       "    <tr>\n",
       "      <th>1654</th>\n",
       "      <td>500</td>\n",
       "    </tr>\n",
       "    <tr>\n",
       "      <th>1655</th>\n",
       "      <td>500</td>\n",
       "    </tr>\n",
       "    <tr>\n",
       "      <th>1656</th>\n",
       "      <td>500</td>\n",
       "    </tr>\n",
       "    <tr>\n",
       "      <th>1657</th>\n",
       "      <td>500</td>\n",
       "    </tr>\n",
       "  </tbody>\n",
       "</table>\n",
       "<p>1576 rows × 1 columns</p>\n",
       "</div>"
      ],
      "text/plain": [
       "      price\n",
       "0      2500\n",
       "1      3500\n",
       "2      2850\n",
       "3      1850\n",
       "4      1000\n",
       "...     ...\n",
       "1653    500\n",
       "1654    500\n",
       "1655    500\n",
       "1656    500\n",
       "1657    500\n",
       "\n",
       "[1576 rows x 1 columns]"
      ]
     },
     "execution_count": 18,
     "metadata": {},
     "output_type": "execute_result"
    }
   ],
   "source": [
    "price_clean = price.loc[(price.price < high) & (price.price > low)]\n",
    "price_clean"
   ]
  },
  {
   "cell_type": "markdown",
   "metadata": {},
   "source": [
    "Tabel diatas merupakan tabel price yang sudah dibersihkan anomali data nya."
   ]
  },
  {
   "cell_type": "markdown",
   "metadata": {},
   "source": [
    "Jawaban dari pertanyaan : \n",
    "1. Sebelum dihilangkan outlier nya, data tersebut memiliki: <br>\n",
    "    a. nilai rata-rata : 5166.355<br>\n",
    "    b. median :  2700.0<br>\n",
    "    c. modus :    0<br>\n",
    "    dengan nilai mean(rata-rata) yang lebih besar dari median, menandakan bahwa banyaknya data yang lebih besar dari median yang kemungkinan bisa dianggap sebagai outlier, atau bisa juga data yang nilainya lebih besar dari median berjumlah banyak. Modus yang bernilai 0 dan muncul sebanyak 453 input juga menandakan bahwa ada banyak data yang bernilai jauh lebih besar dari median karena rata-rata yang didapat juga bernilai sangat besar yaitu 5166.355\n",
    "\n",
    "    \n",
    "2.  Persebaran datanya tidak normal atau highly skewed, hal ini bisa dilihat dari nilai skew yang didapatkan yaitu : 4.240.<br>\n",
    "    Data lebih tersebar padat di sebelah kiri sehingga data bisa disebut right-skewed\n",
    "\n",
    "3. Teknik yang dipakai untuk melakukan extreme value analysis untuk data ini adalah dengan memanfaatkan Tukey's rule atau menggunakan IQR. Hal ini saya lakukan karena bentuk persebaran data yang tidak normal atau highly skewed sehingga metode tersebut cocok untuk digunakan.\n"
   ]
  }
 ],
 "metadata": {
  "kernelspec": {
   "display_name": "Python 3.7.9 64-bit",
   "language": "python",
   "name": "python3"
  },
  "language_info": {
   "codemirror_mode": {
    "name": "ipython",
    "version": 3
   },
   "file_extension": ".py",
   "mimetype": "text/x-python",
   "name": "python",
   "nbconvert_exporter": "python",
   "pygments_lexer": "ipython3",
   "version": "3.7.9"
  },
  "orig_nbformat": 4,
  "vscode": {
   "interpreter": {
    "hash": "3f89355f18d4dbd985dae6e1ed1ed8953c7814bef0ec7c3c56b7077b7f657e9d"
   }
  }
 },
 "nbformat": 4,
 "nbformat_minor": 2
}
