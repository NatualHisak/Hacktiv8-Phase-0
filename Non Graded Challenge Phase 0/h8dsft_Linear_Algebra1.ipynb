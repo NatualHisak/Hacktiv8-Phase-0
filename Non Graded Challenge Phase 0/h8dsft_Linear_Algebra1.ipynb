{
 "cells": [
  {
   "cell_type": "markdown",
   "metadata": {},
   "source": [
    "<h1>NON GRADED CHALLENGE 4</h1>"
   ]
  },
  {
   "cell_type": "markdown",
   "metadata": {},
   "source": [
    "1. Buatlah Vector dibawah ini dengan Python: <br>\n",
    " \n",
    "\\begin{bmatrix}\n",
    "17 \\\\\n",
    "22 \\\\\n",
    "19\n",
    "\\end{bmatrix}\n",
    "\n",
    "2. Diberikan 3 buah vektor 3 dimensi:\n",
    "\n",
    "$$A = \\begin{bmatrix}\n",
    "17 \\\\\n",
    "22 \\\\\n",
    "19\n",
    "\\end{bmatrix},\n",
    "B = \\begin{bmatrix}\n",
    "10\\\\\n",
    "20\\\\\n",
    "11\n",
    "\\end{bmatrix},\n",
    "C = \\begin{bmatrix}\n",
    "5\\\\\n",
    "12\\\\\n",
    "9\\\\\n",
    " \\end{bmatrix}\n",
    "$$\n",
    "\n",
    "Hitunglah:\n",
    "\n",
    "a. A+B\n",
    "\n",
    "b. B-C\n",
    "\n",
    "c. A dot C\n",
    "\n",
    "d. A x B\n",
    "\n",
    "e. norm A\n",
    "\n",
    "f. Sudut antara vektor A dan B\n",
    "\n",
    "3. Buatlah plot dari vector berikut ini kedalam bidang 2D:\n",
    "$$u = \\begin{bmatrix}\n",
    "2 \\\\\n",
    "5\n",
    "\\end{bmatrix},\n",
    "v = \\begin{bmatrix}\n",
    "3\\\\\n",
    "1\n",
    "\\end{bmatrix}\n",
    "$$"
   ]
  },
  {
   "cell_type": "code",
   "execution_count": 69,
   "metadata": {},
   "outputs": [],
   "source": [
    "import numpy as np #Import library numpy dan berikan alias np\n",
    "import matplotlib.pyplot as plt #Import matplotlib dan berikan alias plt    "
   ]
  },
  {
   "cell_type": "markdown",
   "metadata": {},
   "source": [
    "Jawaban soal nomor 1"
   ]
  },
  {
   "cell_type": "code",
   "execution_count": 70,
   "metadata": {},
   "outputs": [
    {
     "name": "stdout",
     "output_type": "stream",
     "text": [
      "[17 22 19]\n"
     ]
    }
   ],
   "source": [
    "x = np.array([17,22,19]).T\n",
    "print (x)"
   ]
  },
  {
   "cell_type": "markdown",
   "metadata": {},
   "source": [
    "Jawaban soal nomor 2<br>"
   ]
  },
  {
   "cell_type": "code",
   "execution_count": 71,
   "metadata": {},
   "outputs": [
    {
     "name": "stdout",
     "output_type": "stream",
     "text": [
      "A = [17 22 19] \n",
      "\n",
      "B = [10 20 11] \n",
      "\n",
      "C = [ 5 12  9] \n",
      "\n"
     ]
    }
   ],
   "source": [
    "#define ketiga matrix ke dalam variabel\n",
    "A = np.array([17,22,19])\n",
    "B = np.array([10,20,11])\n",
    "C = np.array([5,12,9])\n",
    "print (\"A =\", A,\"\\n\")\n",
    "print (\"B =\",B,\"\\n\")\n",
    "print (\"C =\",C,\"\\n\")"
   ]
  },
  {
   "cell_type": "markdown",
   "metadata": {},
   "source": [
    "a. A+B"
   ]
  },
  {
   "cell_type": "code",
   "execution_count": 72,
   "metadata": {},
   "outputs": [
    {
     "data": {
      "text/plain": [
       "array([27, 42, 30])"
      ]
     },
     "execution_count": 72,
     "metadata": {},
     "output_type": "execute_result"
    }
   ],
   "source": [
    "A+B"
   ]
  },
  {
   "cell_type": "markdown",
   "metadata": {},
   "source": [
    "b. B-C"
   ]
  },
  {
   "cell_type": "code",
   "execution_count": 73,
   "metadata": {},
   "outputs": [
    {
     "data": {
      "text/plain": [
       "array([5, 8, 2])"
      ]
     },
     "execution_count": 73,
     "metadata": {},
     "output_type": "execute_result"
    }
   ],
   "source": [
    "B-C"
   ]
  },
  {
   "cell_type": "markdown",
   "metadata": {},
   "source": [
    "c. A dot C"
   ]
  },
  {
   "cell_type": "code",
   "execution_count": 74,
   "metadata": {},
   "outputs": [
    {
     "data": {
      "text/plain": [
       "520"
      ]
     },
     "execution_count": 74,
     "metadata": {},
     "output_type": "execute_result"
    }
   ],
   "source": [
    "D = np.dot(A,C, out=None)\n",
    "D"
   ]
  },
  {
   "cell_type": "markdown",
   "metadata": {},
   "source": [
    "d. A x B"
   ]
  },
  {
   "cell_type": "code",
   "execution_count": 75,
   "metadata": {},
   "outputs": [
    {
     "data": {
      "text/plain": [
       "array([170, 440, 209])"
      ]
     },
     "execution_count": 75,
     "metadata": {},
     "output_type": "execute_result"
    }
   ],
   "source": [
    "A*B"
   ]
  },
  {
   "cell_type": "markdown",
   "metadata": {},
   "source": [
    "e. Norm A"
   ]
  },
  {
   "cell_type": "code",
   "execution_count": 76,
   "metadata": {},
   "outputs": [
    {
     "data": {
      "text/plain": [
       "33.67491648096547"
      ]
     },
     "execution_count": 76,
     "metadata": {},
     "output_type": "execute_result"
    }
   ],
   "source": [
    "np.linalg.norm(A)"
   ]
  },
  {
   "cell_type": "markdown",
   "metadata": {},
   "source": [
    "f. Sudut antara Vektor A dan B"
   ]
  },
  {
   "cell_type": "code",
   "execution_count": 77,
   "metadata": {},
   "outputs": [
    {
     "name": "stdout",
     "output_type": "stream",
     "text": [
      "12.588900662180242\n"
     ]
    }
   ],
   "source": [
    "cos_theta = (A @ B) / (np.linalg.norm(A) * np.linalg.norm(B))\n",
    "radian = np.arccos(cos_theta)\n",
    "degree = np.degrees(radian)\n",
    "\n",
    "print (degree)"
   ]
  },
  {
   "cell_type": "markdown",
   "metadata": {},
   "source": [
    "Jawaban nomor 3"
   ]
  },
  {
   "cell_type": "code",
   "execution_count": 78,
   "metadata": {},
   "outputs": [],
   "source": [
    "u = np.array([2,5]) #Define vektor ke variable u \n",
    "v = np.array([3,1]) #Define vektor ke variable v\n",
    "\n"
   ]
  },
  {
   "cell_type": "code",
   "execution_count": 79,
   "metadata": {},
   "outputs": [
    {
     "data": {
      "image/png": "[encoded data removed]",
      "text/plain": [
       "<Figure size 640x480 with 1 Axes>"
      ]
     },
     "metadata": {},
     "output_type": "display_data"
    }
   ],
   "source": [
    "plt.quiver(u,v, color=['r','b'], scale=21) #plot kedua vektor dengan plt \n",
    "plt.xlim(-5, 5) #batas sumbu x\n",
    "plt.ylim(-5, 5) #batas sumbu y\n",
    "plt.show() #Tampilkan plot"
   ]
  }
 ],
 "metadata": {
  "kernelspec": {
   "display_name": "Python 3.7.9 64-bit",
   "language": "python",
   "name": "python3"
  },
  "language_info": {
   "codemirror_mode": {
    "name": "ipython",
    "version": 3
   },
   "file_extension": ".py",
   "mimetype": "text/x-python",
   "name": "python",
   "nbconvert_exporter": "python",
   "pygments_lexer": "ipython3",
   "version": "3.7.9"
  },
  "orig_nbformat": 4,
  "vscode": {
   "interpreter": {
    "hash": "3f89355f18d4dbd985dae6e1ed1ed8953c7814bef0ec7c3c56b7077b7f657e9d"
   }
  }
 },
 "nbformat": 4,
 "nbformat_minor": 2
}
