{
 "cells": [
  {
   "cell_type": "markdown",
   "metadata": {},
   "source": [
    "<h1>NON GRADED CHALLENGE 5</h1>"
   ]
  },
  {
   "cell_type": "markdown",
   "metadata": {},
   "source": [
    "1. Buatlah Tensor dibawah ini dengan Python:\n",
    "\n",
    "$$\\begin{bmatrix}   \\begin{bmatrix}   23 & 50 \\\\   7 & 12 \\\\   \\end{bmatrix}   \\begin{bmatrix}   57 & 67 \\\\   99 & 43   \\end{bmatrix} \\\\    \\begin{bmatrix}   75 & 21 \\\\   57 & 12 \\\\   \\end{bmatrix}   \\begin{bmatrix}   87 & 26 \\\\   18 & 84   \\end{bmatrix}   \\end{bmatrix}$$\n",
    "  \n",
    "  \n",
    "  \n",
    " \n",
    " \n",
    "\n",
    "2. Lakukan perkalian terhadap matrix berikut:\n",
    "\n",
    " $$A =\n",
    "\\begin{bmatrix}\n",
    "23 & 50 & 19 \\\\\n",
    "7 & 12 & 109 \\\\\n",
    "57 & 67 & 98\n",
    "\\end{bmatrix}\n",
    "\\begin{bmatrix}\n",
    "17 \\\\\n",
    "22 \\\\\n",
    "19\n",
    "\\end{bmatrix}\n",
    " $$\n",
    "\n",
    "3. Lakukan Transpose, hitung determinan, dan inverse terhadap matrix dibawah ini:\n",
    "$$\n",
    "\\begin{bmatrix}\n",
    "23 & 50 & 19 \\\\\n",
    "7 & 12 & 109 \\\\\n",
    "57 & 67 & 98\n",
    "\\end{bmatrix}\n",
    "$$\n",
    " \n"
   ]
  },
  {
   "cell_type": "markdown",
   "metadata": {},
   "source": [
    "Import Library yang akan digunakan"
   ]
  },
  {
   "cell_type": "code",
   "execution_count": 38,
   "metadata": {},
   "outputs": [],
   "source": [
    "import numpy as np"
   ]
  },
  {
   "cell_type": "markdown",
   "metadata": {},
   "source": [
    "Jawaban nomor 1"
   ]
  },
  {
   "cell_type": "code",
   "execution_count": 39,
   "metadata": {},
   "outputs": [
    {
     "name": "stdout",
     "output_type": "stream",
     "text": [
      "(4, 2, 2)\n"
     ]
    },
    {
     "data": {
      "text/plain": [
       "array([[[23, 50],\n",
       "        [ 7, 12]],\n",
       "\n",
       "       [[57, 67],\n",
       "        [99, 43]],\n",
       "\n",
       "       [[75, 21],\n",
       "        [57, 12]],\n",
       "\n",
       "       [[87, 26],\n",
       "        [18, 84]]])"
      ]
     },
     "execution_count": 39,
     "metadata": {},
     "output_type": "execute_result"
    }
   ],
   "source": [
    "X = [23, 50, 7, 12,\n",
    "     57, 67, 99, 43,\n",
    "     75, 21, 57, 12,\n",
    "     87, 26, 18, 84]\n",
    "MatrixX = np.array(X).reshape(4,2,2)\n",
    "print(MatrixX.shape)\n",
    "MatrixX"
   ]
  },
  {
   "cell_type": "markdown",
   "metadata": {},
   "source": [
    "Jawaban nomor 2"
   ]
  },
  {
   "cell_type": "code",
   "execution_count": 40,
   "metadata": {},
   "outputs": [
    {
     "name": "stdout",
     "output_type": "stream",
     "text": [
      "(3, 3)\n"
     ]
    },
    {
     "data": {
      "text/plain": [
       "array([1852, 2454, 4305])"
      ]
     },
     "execution_count": 40,
     "metadata": {},
     "output_type": "execute_result"
    }
   ],
   "source": [
    "A = [23, 50, 19,\n",
    "     7, 12, 109,\n",
    "     57, 67, 98] \n",
    "B = [17,22,19]\n",
    "MatA = np.array(A).reshape(3,3)\n",
    "MatB = np.array(B)\n",
    "print(MatA.shape)\n",
    "\n",
    "MatA@MatB"
   ]
  },
  {
   "cell_type": "markdown",
   "metadata": {},
   "source": [
    "Jawaban nomor 3"
   ]
  },
  {
   "cell_type": "code",
   "execution_count": 41,
   "metadata": {},
   "outputs": [
    {
     "data": {
      "text/plain": [
       "array([[ 23,   7,  57],\n",
       "       [ 50,  12,  67],\n",
       "       [ 19, 109,  98]])"
      ]
     },
     "execution_count": 41,
     "metadata": {},
     "output_type": "execute_result"
    }
   ],
   "source": [
    "Transpose = MatA.T # Transpose matrix\n",
    "Transpose"
   ]
  },
  {
   "cell_type": "code",
   "execution_count": 42,
   "metadata": {},
   "outputs": [
    {
     "data": {
      "text/plain": [
       "131344.0000000002"
      ]
     },
     "execution_count": 42,
     "metadata": {},
     "output_type": "execute_result"
    }
   ],
   "source": [
    "np.linalg.det(MatA) #Determinan Matrix"
   ]
  },
  {
   "cell_type": "code",
   "execution_count": 43,
   "metadata": {},
   "outputs": [
    {
     "data": {
      "text/plain": [
       "array([[-0.0466485 , -0.02761451,  0.03975819],\n",
       "       [ 0.04208034,  0.00891552, -0.01807467],\n",
       "       [-0.00163692,  0.0099662 , -0.00056341]])"
      ]
     },
     "execution_count": 43,
     "metadata": {},
     "output_type": "execute_result"
    }
   ],
   "source": [
    "np.linalg.inv(MatA) #Invers Matrix"
   ]
  }
 ],
 "metadata": {
  "kernelspec": {
   "display_name": "Python 3.7.9 64-bit",
   "language": "python",
   "name": "python3"
  },
  "language_info": {
   "codemirror_mode": {
    "name": "ipython",
    "version": 3
   },
   "file_extension": ".py",
   "mimetype": "text/x-python",
   "name": "python",
   "nbconvert_exporter": "python",
   "pygments_lexer": "ipython3",
   "version": "3.7.9"
  },
  "orig_nbformat": 4,
  "vscode": {
   "interpreter": {
    "hash": "3f89355f18d4dbd985dae6e1ed1ed8953c7814bef0ec7c3c56b7077b7f657e9d"
   }
  }
 },
 "nbformat": 4,
 "nbformat_minor": 2
}
