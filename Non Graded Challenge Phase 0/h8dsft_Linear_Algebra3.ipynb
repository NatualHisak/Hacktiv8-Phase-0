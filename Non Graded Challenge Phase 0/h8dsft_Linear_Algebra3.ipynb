{
 "cells": [
  {
   "cell_type": "markdown",
   "metadata": {},
   "source": [
    "<h1>NON GRADED CHALLENGE 6</h1>"
   ]
  },
  {
   "cell_type": "markdown",
   "metadata": {},
   "source": [
    "Apakah \n",
    "$$\\begin{bmatrix}1\\\\ 3 \\end{bmatrix}$$\n",
    "\n",
    "adalah eigenvector dari \n",
    "$$\\begin{bmatrix}1 & -1\\\\ 6 &-4 \\end{bmatrix}$$\n",
    "Jika iya, berapakah eigenvalue-nya?"
   ]
  },
  {
   "cell_type": "code",
   "execution_count": 2,
   "metadata": {},
   "outputs": [],
   "source": [
    "import numpy as np #import library numpy dan berikan alias np"
   ]
  },
  {
   "cell_type": "code",
   "execution_count": 6,
   "metadata": {},
   "outputs": [
    {
     "name": "stdout",
     "output_type": "stream",
     "text": [
      "[[1 3]] \n",
      "\n",
      "[[ 1 -1]\n",
      " [ 6 -4]]\n"
     ]
    }
   ],
   "source": [
    "A = [1,3] #masukan matrix pertama ke dalam variable A\n",
    "matA = np.array(A).reshape(1,2)\n",
    "B = [1,-1,6,-4]#masukan matrix kedua ke dalam variable B\n",
    "matB = np.array(B).reshape(2,2)\n",
    "print (matA,\"\\n\")\n",
    "print (matB)"
   ]
  },
  {
   "cell_type": "code",
   "execution_count": 12,
   "metadata": {},
   "outputs": [
    {
     "name": "stdout",
     "output_type": "stream",
     "text": [
      "[[0.4472136  0.31622777]\n",
      " [0.89442719 0.9486833 ]]\n",
      "[-1. -2.]\n"
     ]
    }
   ],
   "source": [
    "values, vector = np.linalg.eig(matB) # mencari eigen vector dari matrix B\n",
    "print(vector)\n",
    "print(values)"
   ]
  },
  {
   "cell_type": "markdown",
   "metadata": {},
   "source": [
    "dari hasil diatas, bisa dilihat bahwa vektor A bukan merupakan eigenvector dari matrix B"
   ]
  }
 ],
 "metadata": {
  "kernelspec": {
   "display_name": "Python 3.7.9 64-bit",
   "language": "python",
   "name": "python3"
  },
  "language_info": {
   "codemirror_mode": {
    "name": "ipython",
    "version": 3
   },
   "file_extension": ".py",
   "mimetype": "text/x-python",
   "name": "python",
   "nbconvert_exporter": "python",
   "pygments_lexer": "ipython3",
   "version": "3.7.9"
  },
  "orig_nbformat": 4,
  "vscode": {
   "interpreter": {
    "hash": "3f89355f18d4dbd985dae6e1ed1ed8953c7814bef0ec7c3c56b7077b7f657e9d"
   }
  }
 },
 "nbformat": 4,
 "nbformat_minor": 2
}
