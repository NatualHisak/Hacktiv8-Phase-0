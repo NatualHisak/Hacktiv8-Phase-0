{
 "cells": [
  {
   "cell_type": "markdown",
   "metadata": {},
   "source": [
    "<h1>NON GRADED CHALLENGE 3</h1>"
   ]
  },
  {
   "cell_type": "markdown",
   "metadata": {},
   "source": [
    "▪Buatlah sebuah function yang dapat mengkonversi suhu dari kelvin ke celcius, dan celcius ke kelvin.<br>\n",
    "▪Buatlah sebuah function yang dapat mengkonversi suhu ke fahrenheit. Tambahkan parameter untuk memastikan bahwa argumen yang dimasukan adalah celcius atau kelvin. Panggil function yang pertama jika diperlukan.<br>\n",
    "▪Buatlah sebuah function yang dapat mengkonversi suhu dari fahrenheit. Berikan argumen untuk memastikan bahwa outputnya adalah celcius atau kelvin.<br>\n",
    "▪Berikan dokumentasi pada setiap baris kode yang kalian tulis.<br>\n"
   ]
  },
  {
   "cell_type": "code",
   "execution_count": 13,
   "metadata": {},
   "outputs": [
    {
     "name": "stdout",
     "output_type": "stream",
     "text": [
      "293 Kelvin\n",
      "127 Celcius\n"
     ]
    }
   ],
   "source": [
    "def CtK(C,S) : #Define fungsi dengan input C sebagai value suhu dan S sebagai satuan suhu\n",
    "    if S == \"Celcius\" : #Jika merubah Celcius ke Kelvin\n",
    "        K = C + 273\n",
    "        print (K, 'Kelvin')\n",
    "    elif S == \"Kelvin\" : #Jika merubah Kelvin ke Celcius\n",
    "        K = C - 273\n",
    "        print (K,'Celcius')\n",
    "CtK(20, \"Celcius\")\n",
    "CtK(400, \"Kelvin\")\n"
   ]
  },
  {
   "cell_type": "code",
   "execution_count": 14,
   "metadata": {},
   "outputs": [
    {
     "name": "stdout",
     "output_type": "stream",
     "text": [
      "-99.4 Farenheit\n",
      "68.0 Farenheit\n"
     ]
    }
   ],
   "source": [
    "def toFarenheit (C,S):\n",
    "    if S == \"Celcius\" : #Jika merubah Celcius ke Farenheit\n",
    "        K = ((9/5)*C)+32\n",
    "        print (K, 'Farenheit')\n",
    "    elif S == \"Kelvin\" : #Jika merubah Kelvin ke Farenheit\n",
    "        K = ((9/5)*(C - 273))+32\n",
    "        print (K,'Farenheit')\n",
    "toFarenheit (200,\"Kelvin\")\n",
    "toFarenheit (20,\"Celcius\")"
   ]
  },
  {
   "cell_type": "code",
   "execution_count": 16,
   "metadata": {},
   "outputs": [
    {
     "name": "stdout",
     "output_type": "stream",
     "text": [
      "366.33333333333337 Kelvin\n",
      "93.33333333333334 Celcius\n"
     ]
    }
   ],
   "source": [
    "def fromFarenheit (C,S):\n",
    "    if S == \"Celcius\" : #Jika merubah Farenheit ke Celcius\n",
    "        K = (5/9)*(C-32)\n",
    "        print (K, 'Celcius')\n",
    "    elif S == \"Kelvin\" : #Jika merubah Farenheit ke Kelvin\n",
    "        K = (5/9)*(C-32) + 273\n",
    "        print (K,'Kelvin')\n",
    "fromFarenheit (200,\"Kelvin\")\n",
    "fromFarenheit (200,\"Celcius\")"
   ]
  }
 ],
 "metadata": {
  "kernelspec": {
   "display_name": "Python 3.7.9 64-bit",
   "language": "python",
   "name": "python3"
  },
  "language_info": {
   "codemirror_mode": {
    "name": "ipython",
    "version": 3
   },
   "file_extension": ".py",
   "mimetype": "text/x-python",
   "name": "python",
   "nbconvert_exporter": "python",
   "pygments_lexer": "ipython3",
   "version": "3.7.9"
  },
  "orig_nbformat": 4,
  "vscode": {
   "interpreter": {
    "hash": "3f89355f18d4dbd985dae6e1ed1ed8953c7814bef0ec7c3c56b7077b7f657e9d"
   }
  }
 },
 "nbformat": 4,
 "nbformat_minor": 2
}
